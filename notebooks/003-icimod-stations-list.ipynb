{
 "cells": [
  {
   "cell_type": "code",
   "execution_count": null,
   "metadata": {},
   "outputs": [],
   "source": [
    "stations_langtang = [\n",
    "                    'Tipping Bucket Lama Hotel', \n",
    "                    'Tipping Bucket Langtang',\n",
    "                    'Tipping Bucket Kyanjing', \n",
    "                    #'Tipping Bucket Numthang old',\n",
    "                    'Tipping Bucket Jathang', \n",
    "                    'Pluviometer Yala', \n",
    "                    'AWS Kyangjing',\n",
    "                    'AWS Yala BC', \n",
    "                    'Tipping Bucket Ganja La 3',\n",
    "                    'Tipping Bucket Ganja La 2',\n",
    "                    'Tipping Bucket Langshisha Glacier (next to Pluviometer)',\n",
    "                    'Tipping Bucket Ganja La 1',\n",
    "                    'Tipping Bucket Langshisha BC',\n",
    "                    'Tipping Bucket Shalbachum',\n",
    "                    #'Pluviometer Langshisha Glacier (off-glacier)',\n",
    "                    'Pluviometer GanjaLa', \n",
    "                    'Pluviometer Morimoto']\n",
    "\n",
    "exclusion_list = [\n",
    "                'Tipping Bucket Numthang old', \n",
    "                'Tipping Bucket Jathang',\n",
    "                'Pluviometer Langshisha Glacier (off-glacier)', 'Pluviometer Yala',\n",
    "                'AWS Kyangjing', 'AWS Yala BC']\n",
    "\n",
    "[s not in exclusion_list for s in stations_langtang]\n",
    "\n",
    "sublist = ['AWS Kyangjing', 'AWS Yala BC', 'Pluviometer Yala']"
   ]
  },
  {
   "cell_type": "code",
   "execution_count": null,
   "metadata": {},
   "outputs": [],
   "source": []
  }
 ],
 "metadata": {
  "kernelspec": {
   "display_name": "Python 3",
   "language": "python",
   "name": "python3"
  },
  "language_info": {
   "codemirror_mode": {
    "name": "ipython",
    "version": 3
   },
   "file_extension": ".py",
   "mimetype": "text/x-python",
   "name": "python",
   "nbconvert_exporter": "python",
   "pygments_lexer": "ipython3",
   "version": "3.7.6"
  }
 },
 "nbformat": 4,
 "nbformat_minor": 4
}
