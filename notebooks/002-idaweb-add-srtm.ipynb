{
 "cells": [
  {
   "cell_type": "code",
   "execution_count": null,
   "metadata": {},
   "outputs": [],
   "source": [
    "import pandas as pd\n",
    "from pyproj import Proj, transform\n",
    "import rasterio\n",
    "import rioxarray\n",
    "import xarray as xr\n",
    "\n",
    "# Assuming your DataFrame is named df and has columns 'lat_local' and 'lon_local' for the Swiss coordinates\n",
    "# Example:\n",
    "# df = pd.DataFrame({'station_name': ['Station1', 'Station2'], 'lat_local': [600000, 605000], 'lon_local': [200000, 205000]})\n",
    "\n",
    "# Define the projection for Swiss coordinates (CH1903/LV03) and WGS84\n",
    "proj_swiss = Proj(init='epsg:21781')  # CH1903/LV03\n",
    "proj_wgs84 = Proj(init='epsg:4326')  # WGS84\n",
    "\n",
    "# Convert coordinates\n",
    "df_coords['lon_wgs84'], df_coords['lat_wgs84'] = transform(p1=proj_swiss, \n",
    "                                                           p2=proj_wgs84, \n",
    "                                                           x=df_coords['X'].values, \n",
    "                                                           y=df_coords['Y'].values)\n",
    "\n",
    "# Load the SRTM raster data with rioxarray\n",
    "srtm_file = '../../data/idaweb/switzerland.tif'\n",
    "srtm_data = rioxarray.open_rasterio(srtm_file)\n",
    "\n",
    "# Function to extract nearest elevation value for given coordinates\n",
    "def get_elevation(lat, lon, srtm_data):\n",
    "    # Use sel method to select nearest point, method='nearest' ensures closest point is chosen\n",
    "    elevation = srtm_data.sel(x=lon, y=lat, method='nearest').values\n",
    "    return elevation.item()  # Convert numpy array to scalar\n",
    "\n",
    "# Apply the function to each row in the DataFrame to create a new 'elevation' column\n",
    "df_coords['Z'] = df_coords.apply(lambda row: get_elevation(row['lat_wgs84'], row['lon_wgs84'], srtm_data), axis=1)"
   ]
  },
  {
   "cell_type": "code",
   "execution_count": 6,
   "metadata": {},
   "outputs": [],
   "source": [
    "merged_df = df.merge(df_coords[['X','Y','Z']],how='inner',on=['X','Y'])"
   ]
  },
  {
   "cell_type": "code",
   "execution_count": 8,
   "metadata": {},
   "outputs": [],
   "source": [
    "merged_df.rename(columns={'Z_y':'SRTM', 'Z_x':'Z'}, inplace=True)"
   ]
  },
  {
   "cell_type": "code",
   "execution_count": 10,
   "metadata": {},
   "outputs": [],
   "source": [
    "merged_df.to_pickle(PATH, protocol=4)"
   ]
  }
 ],
 "metadata": {
  "kernelspec": {
   "display_name": "Python 3",
   "language": "python",
   "name": "python3"
  },
  "language_info": {
   "codemirror_mode": {
    "name": "ipython",
    "version": 3
   },
   "file_extension": ".py",
   "mimetype": "text/x-python",
   "name": "python",
   "nbconvert_exporter": "python",
   "pygments_lexer": "ipython3",
   "version": "3.7.6"
  }
 },
 "nbformat": 4,
 "nbformat_minor": 4
}
